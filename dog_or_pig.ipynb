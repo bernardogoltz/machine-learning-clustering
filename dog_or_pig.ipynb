{
  "nbformat": 4,
  "nbformat_minor": 0,
  "metadata": {
    "colab": {
      "name": "dog-or-pig.ipynb",
      "provenance": [],
      "collapsed_sections": [],
      "authorship_tag": "ABX9TyPaZmCYSP+IlJaXdvayoriN",
      "include_colab_link": true
    },
    "kernelspec": {
      "name": "python3",
      "display_name": "Python 3"
    },
    "language_info": {
      "name": "python"
    }
  },
  "cells": [
    {
      "cell_type": "markdown",
      "metadata": {
        "id": "view-in-github",
        "colab_type": "text"
      },
      "source": [
        "<a href=\"https://colab.research.google.com/github/bernardogoltz/machine-learning-clustering/blob/main/dog_or_pig.ipynb\" target=\"_parent\"><img src=\"https://colab.research.google.com/assets/colab-badge.svg\" alt=\"Open In Colab\"/></a>"
      ]
    },
    {
      "cell_type": "markdown",
      "source": [
        "# Clustering Animals between: Pig or Dog?\n",
        "\n",
        "0.   Dog \n",
        "1.   Pig\n",
        "\n"
      ],
      "metadata": {
        "id": "LAeIWgPwN2Dy"
      }
    },
    {
      "cell_type": "markdown",
      "source": [
        "Features: \n",
        "\n",
        "\n",
        "\n",
        "* Long Fur? *y/n -> 1/0*\n",
        "* Short leg? *y/n -> 1/0*\n",
        "* Does it Barks? *y/n -> 1/0*\n",
        "\n",
        "\n",
        "\n",
        "\n",
        "\n",
        "\n",
        "\n"
      ],
      "metadata": {
        "id": "feNnuU0ZQebW"
      }
    },
    {
      "cell_type": "code",
      "source": [
        "pig1 = [0 , 1, 0]\n",
        "pig2 = [0 , 1, 0]\n",
        "pig3 = [0 , 1, 0]\n",
        "\n",
        "dog1 = [0 , 1, 1]\n",
        "dog2 = [1 , 0, 1]\n",
        "dog3 = [1 , 1, 1]"
      ],
      "metadata": {
        "id": "Ql78u1kiQskW"
      },
      "execution_count": 1,
      "outputs": []
    },
    {
      "cell_type": "code",
      "source": [
        "data = [pig1 , pig2 , pig3 , dog1 , dog2 , dog3]\n",
        "classes = [1,1,1,0,0,0]\n",
        "\n",
        "# features that were previously classified"
      ],
      "metadata": {
        "id": "VuJldIadR2CA"
      },
      "execution_count": 7,
      "outputs": []
    },
    {
      "cell_type": "code",
      "source": [
        "from sklearn.svm import LinearSVC\n",
        "model = LinearSVC() \n",
        "# creating the model variable, which will use LINEAR SUPPORT VECTOR CLASSIFICATION method"
      ],
      "metadata": {
        "id": "cfaq_pJKSNRP"
      },
      "execution_count": 10,
      "outputs": []
    },
    {
      "cell_type": "code",
      "source": [
        "model.fit(data , classes)"
      ],
      "metadata": {
        "colab": {
          "base_uri": "https://localhost:8080/"
        },
        "id": "LtXGxEbRSYZ4",
        "outputId": "8feb2b5d-ac59-4d48-f943-e1b50ace440a"
      },
      "execution_count": 15,
      "outputs": [
        {
          "output_type": "execute_result",
          "data": {
            "text/plain": [
              "LinearSVC()"
            ]
          },
          "metadata": {},
          "execution_count": 15
        }
      ]
    },
    {
      "cell_type": "code",
      "source": [
        "def predictAnimal(predict_animal1):\n",
        "    if predict_animal1 == 0:\n",
        "        print(\"That's a Dog\")\n",
        "    else:\n",
        "        print(\"That's a Pig\")"
      ],
      "metadata": {
        "id": "Eh1BG_08UyIG"
      },
      "execution_count": 30,
      "outputs": []
    },
    {
      "cell_type": "code",
      "source": [
        "# new animal -> has long fur, short leg and barks. \n",
        "misterious_animal = [1,1,1]\n",
        "\n",
        "# variable.predict([item])\n",
        "predict_animal1 = model.predict([misterious_animal])\n",
        "predict_animal1 = predict_animal1[0]\n",
        "\n",
        "print(predict_animal1)\n",
        "\n",
        "predictAnimal(predict_animal1)"
      ],
      "metadata": {
        "colab": {
          "base_uri": "https://localhost:8080/"
        },
        "id": "rVpR1FRqVYV2",
        "outputId": "6c2d8bfd-6e02-4da0-ac58-1953ec955caa"
      },
      "execution_count": 34,
      "outputs": [
        {
          "output_type": "stream",
          "name": "stdout",
          "text": [
            "0\n",
            "That's a Dog\n"
          ]
        }
      ]
    },
    {
      "cell_type": "code",
      "source": [
        "misterious1 = [1,1,1] # dog \n",
        "misterious2 = [1,1,0] # pig\n",
        "misterious3 = [0,1,1] # pig\n",
        "\n",
        "tests = [misterious1, misterious2, misterious3]\n",
        "predicts = model.predict(tests)"
      ],
      "metadata": {
        "id": "SZOmZXTYVf0E"
      },
      "execution_count": 47,
      "outputs": []
    },
    {
      "cell_type": "code",
      "source": [
        "predicts # dog, pig , dog\n",
        "\n",
        "# dog, pig , pig ===== dog, pig , pig "
      ],
      "metadata": {
        "colab": {
          "base_uri": "https://localhost:8080/"
        },
        "id": "8ylJRMzWWKKM",
        "outputId": "6f05a7d4-5579-442c-e700-1108cbe5b587"
      },
      "execution_count": 46,
      "outputs": [
        {
          "output_type": "execute_result",
          "data": {
            "text/plain": [
              "array([0, 1, 0])"
            ]
          },
          "metadata": {},
          "execution_count": 46
        }
      ]
    },
    {
      "cell_type": "code",
      "source": [
        "tests_classes = [0,1,1] # true"
      ],
      "metadata": {
        "id": "e03cBG0fWX17"
      },
      "execution_count": 53,
      "outputs": []
    },
    {
      "cell_type": "code",
      "source": [
        "predicts == tests_classes\n",
        "# predict compared with true"
      ],
      "metadata": {
        "colab": {
          "base_uri": "https://localhost:8080/"
        },
        "id": "Xj6a1tThWg79",
        "outputId": "72f71789-5ac7-414c-e885-2d9010693c93"
      },
      "execution_count": 52,
      "outputs": [
        {
          "output_type": "execute_result",
          "data": {
            "text/plain": [
              "array([ True,  True, False])"
            ]
          },
          "metadata": {},
          "execution_count": 52
        }
      ]
    },
    {
      "cell_type": "code",
      "source": [
        "corrects = (predicts == tests_classes).sum()\n",
        "total = len(tests_classes)"
      ],
      "metadata": {
        "id": "byEq-tqhW6NF"
      },
      "execution_count": 67,
      "outputs": []
    },
    {
      "cell_type": "code",
      "source": [
        "sucess_rate = (corrects / total)*100\n",
        "print(\"Taxa de acerto = {:.3f}%\".format(sucess_rate))"
      ],
      "metadata": {
        "colab": {
          "base_uri": "https://localhost:8080/"
        },
        "id": "1s87PONcXPZr",
        "outputId": "53c9cb93-9d4e-4789-a729-efa423a81b2a"
      },
      "execution_count": 65,
      "outputs": [
        {
          "output_type": "stream",
          "name": "stdout",
          "text": [
            "Taxa de acerto = 66.667%\n"
          ]
        }
      ]
    },
    {
      "cell_type": "code",
      "source": [
        "from sklearn.metrics import accuracy_score \n",
        "\n",
        "    # accuracy_score(righ_answers , predicted_answers)\n",
        "\n",
        "succes_rate =  accuracy_score(tests_classes , predicts)\n",
        "print(\"Taxa de acerto = {:.3f}%\".format(sucess_rate))"
      ],
      "metadata": {
        "colab": {
          "base_uri": "https://localhost:8080/"
        },
        "id": "1ou8xsLjXrHX",
        "outputId": "c3784f60-81d0-4982-cf1e-45eaf880485a"
      },
      "execution_count": 74,
      "outputs": [
        {
          "output_type": "stream",
          "name": "stdout",
          "text": [
            "Taxa de acerto = 66.667%\n"
          ]
        }
      ]
    }
  ]
}